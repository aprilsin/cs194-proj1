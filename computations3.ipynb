{
 "cells": [
  {
   "cell_type": "code",
   "execution_count": 9,
   "metadata": {
    "ExecuteTime": {
     "end_time": "2020-09-08T21:46:56.754689Z",
     "start_time": "2020-09-08T21:46:55.839781Z"
    }
   },
   "outputs": [],
   "source": [
    "from dataclasses import dataclass\n",
    "from itertools import product\n",
    "from pathlib import Path\n",
    "from typing import Callable, NamedTuple, Tuple\n",
    "\n",
    "import cv2\n",
    "import matplotlib.pyplot as plt\n",
    "import numpy as np\n",
    "import skimage as sk\n",
    "import skimage.io as skio\n",
    "from numpy import ndarray\n",
    "from PIL import Image"
   ]
  },
  {
   "cell_type": "markdown",
   "metadata": {},
   "source": [
    "# Input images"
   ]
  },
  {
   "cell_type": "code",
   "execution_count": 10,
   "metadata": {
    "ExecuteTime": {
     "end_time": "2020-09-08T21:46:56.773441Z",
     "start_time": "2020-09-08T21:46:56.756199Z"
    }
   },
   "outputs": [
    {
     "name": "stdout",
     "output_type": "stream",
     "text": [
      "number of images = 3\n",
      "number of images = 11\n",
      "number of images = 4\n"
     ]
    }
   ],
   "source": [
    "data_dir, extra_dir, out_dir = Path(\"data\"), Path(\"extra\"), Path(\"output\")\n",
    "adjust_dir = Path(\"output/adjust\")\n",
    "out_dir.mkdir(parents=True, exist_ok=True)\n",
    "\n",
    "low_res_imgs = list(data_dir.glob(\"*.jpg\"))\n",
    "high_res_imgs = list(data_dir.glob(\"*.tif\"))\n",
    "extra_imgs = list(extra_dir.glob(\"*\"))\n",
    "\n",
    "print(f\"number of images = {len(low_res_imgs)}\")\n",
    "print(f\"number of images = {len(high_res_imgs)}\")\n",
    "print(f\"number of images = {len(extra_imgs)}\")"
   ]
  },
  {
   "cell_type": "markdown",
   "metadata": {
    "ExecuteTime": {
     "end_time": "2020-09-08T10:20:16.980871Z",
     "start_time": "2020-09-08T10:20:16.978068Z"
    }
   },
   "source": [
    "# Aligning Channels"
   ]
  },
  {
   "cell_type": "markdown",
   "metadata": {},
   "source": [
    "## Helper Functions"
   ]
  },
  {
   "cell_type": "code",
   "execution_count": 26,
   "metadata": {
    "ExecuteTime": {
     "end_time": "2020-09-08T22:04:34.666282Z",
     "start_time": "2020-09-08T22:04:34.661292Z"
    },
    "code_folding": []
   },
   "outputs": [],
   "source": [
    "class Displacement(Pixel):\n",
    "    \"\"\"Start of each color as a row.\"\"\"\n",
    "\n",
    "    r: Pixel()\n",
    "    g: Pixel()\n",
    "    b: Pixel()\n",
    "\n",
    "\n",
    "class Pixel(NamedTuple):\n",
    "    row: int = 0\n",
    "    col: int = 0\n",
    "\n",
    "\n",
    "class Offset(NamedTuple):\n",
    "    row: int = 0\n",
    "    col: int = 0\n",
    "\n",
    "\n",
    "class ChannelSize(NamedTuple):\n",
    "    h: int = 0\n",
    "    w: int = 0\n",
    "\n",
    "\n",
    "class Pic:\n",
    "    def __init__(\n",
    "        self,\n",
    "        im: ndarray,\n",
    "        d: Displacement = Displacement(),\n",
    "        ch_size: ChannelSize = ChannelSize(),\n",
    "    ) -> None:\n",
    "        self.im = im\n",
    "        self.d = d\n",
    "        self.ch_size = ch_size"
   ]
  },
  {
   "cell_type": "code",
   "execution_count": 27,
   "metadata": {
    "ExecuteTime": {
     "end_time": "2020-09-08T22:04:36.361057Z",
     "start_time": "2020-09-08T22:04:36.354953Z"
    }
   },
   "outputs": [],
   "source": [
    "def est_channel_height(img: ndarray):\n",
    "    return img.shape[0] // 3\n",
    "\n",
    "def est_channel_width(img: ndarray):\n",
    "    return img.shape[1]\n",
    "\n",
    "def max_channel_height(img: Pic):\n",
    "    return min(img.r.shape[0], img.b.shape[0], img.g.shape[0])\n",
    "\n",
    "def max_channel_width(img: Pic):\n",
    "    return min(img.r.shape[1], img.b.shape[1], img.g.shape[1])\n",
    "\n",
    "def channels(img, disp: Displacement, h:int, w:int) -> Tuple[ndarray, ndarray, ndarray]:\n",
    "    # create channel matrices\n",
    "    # print(B_start, G_start, R_start, h, w)\n",
    "    r, g, b = disp.r, disp.g, disp.b\n",
    "    B_mat = img[b : b + h, :w]\n",
    "    G_mat = img[g : g + h, :w]\n",
    "    R_mat = img[r : r + h, :w]\n",
    "    return R_mat, G_mat, B_mat"
   ]
  },
  {
   "cell_type": "code",
   "execution_count": 28,
   "metadata": {
    "ExecuteTime": {
     "end_time": "2020-09-08T22:04:36.938333Z",
     "start_time": "2020-09-08T22:04:36.932795Z"
    }
   },
   "outputs": [],
   "source": [
    "# Returns a sub_matrix extracted from img\n",
    "def sub_image(\n",
    "    img: ndarray,\n",
    "    start: Pixel = Pixel(),\n",
    "    ch_size: ChannelSize = None,\n",
    "    offset: Offset = Offset(),\n",
    "    pad_val: float = 0,\n",
    ") -> ndarray:\n",
    "\n",
    "    res_h = h - 2 * offset.row\n",
    "    res_w = w - 2 * offset.col\n",
    "    R, C = img.shape\n",
    "    \n",
    "    # if out of bounds, return None\n",
    "    if (\n",
    "        start.row not in range(R)\n",
    "        or start.col not in range(C)\n",
    "        or start.row + res_h not in range(R)\n",
    "        or start.col + res_w not in range(C)\n",
    "    ):\n",
    "        return None\n",
    "\n",
    "    # if ch_size is not specified, initialize it\n",
    "    if ch_size == None:\n",
    "        ch_size = ChannelSize(h=est_channel_height(img), w=est_channel_width(img))\n",
    "\n",
    "    # copy wanted entries of img to result\n",
    "    result = img[start.row : start.row + res_h, start.col : start.col + res_w]\n",
    "    return result"
   ]
  },
  {
   "cell_type": "markdown",
   "metadata": {
    "ExecuteTime": {
     "end_time": "2020-09-08T10:20:55.098250Z",
     "start_time": "2020-09-08T10:20:55.096200Z"
    },
    "heading_collapsed": true
   },
   "source": [
    "## Alignment Algorithms"
   ]
  },
  {
   "cell_type": "markdown",
   "metadata": {
    "ExecuteTime": {
     "end_time": "2020-09-08T10:21:02.418880Z",
     "start_time": "2020-09-08T10:21:02.416860Z"
    },
    "hidden": true
   },
   "source": [
    "### Basic"
   ]
  },
  {
   "cell_type": "code",
   "execution_count": null,
   "metadata": {
    "ExecuteTime": {
     "end_time": "2020-09-08T10:55:25.415152Z",
     "start_time": "2020-09-08T10:55:25.412141Z"
    },
    "hidden": true
   },
   "outputs": [],
   "source": [
    "# Returns alignment index by simply dividing the image in 3\n",
    "def align_basic(img: ndarray) -> Displacement:\n",
    "    G_start = channel_height(img)  # floor division to get integer indices\n",
    "    R_start = channel_height(img) * 2\n",
    "    return Displacement(g=G_start, r=R_start)"
   ]
  },
  {
   "cell_type": "markdown",
   "metadata": {
    "ExecuteTime": {
     "end_time": "2020-09-08T10:21:14.297957Z",
     "start_time": "2020-09-08T10:21:14.295781Z"
    },
    "hidden": true
   },
   "source": [
    "### SSD"
   ]
  },
  {
   "cell_type": "code",
   "execution_count": 21,
   "metadata": {
    "ExecuteTime": {
     "end_time": "2020-09-08T21:58:04.092049Z",
     "start_time": "2020-09-08T21:58:04.089194Z"
    },
    "hidden": true
   },
   "outputs": [],
   "source": [
    "# Returns the ssd between matrix a and matrix b\n",
    "def ssd(a: ndarray, b: ndarray) -> float:\n",
    "    return np.sum((a - b) ** 2)"
   ]
  },
  {
   "cell_type": "markdown",
   "metadata": {
    "hidden": true
   },
   "source": [
    "### NCC"
   ]
  },
  {
   "cell_type": "code",
   "execution_count": 22,
   "metadata": {
    "ExecuteTime": {
     "end_time": "2020-09-08T21:58:04.576504Z",
     "start_time": "2020-09-08T21:58:04.573036Z"
    },
    "hidden": true
   },
   "outputs": [],
   "source": [
    "# Returns the ncc between matrix a and matrix b\n",
    "def ncc(a: ndarray, b: ndarray) -> float:\n",
    "    assert(a.shape == b.shape)\n",
    "    s = np.array([a[r] @ b[r] for r in range(a.shape[0])])\n",
    "    return np.sum(s)"
   ]
  },
  {
   "cell_type": "markdown",
   "metadata": {},
   "source": [
    "## Alignment Computations"
   ]
  },
  {
   "cell_type": "code",
   "execution_count": 24,
   "metadata": {
    "ExecuteTime": {
     "end_time": "2020-09-08T21:59:29.246704Z",
     "start_time": "2020-09-08T21:59:29.239690Z"
    }
   },
   "outputs": [],
   "source": [
    "def align(\n",
    "    pic: Pic,\n",
    "    img: ndarray,\n",
    "    dis_est: Displacement = None,\n",
    "    window: int = 20,\n",
    "    ch_size: ChannelSize = None,\n",
    "    offset=Offset(row=20, col=20),\n",
    "    metric: Callable = ssd,\n",
    "    use_min=True,\n",
    ") -> Displacement:\n",
    "\n",
    "    # if ch_size is not specified, initialize it\n",
    "    if ch_size == None:\n",
    "        ch_size = ChannelSize(h=est_channel_height(img), w=est_channel_width(img))\n",
    "\n",
    "    # if displacement_estimate is not specified, initialize it\n",
    "    if displacement_estimate == None:\n",
    "        dis_est = Displacement()\n",
    "        dis_est.g.row = ch_size.h\n",
    "        dis_est.r.row = ch_size.h * 2\n",
    "\n",
    "    b_est = sub_image(img, dis_est.b, ch_size, offset)\n",
    "\n",
    "    # find displacement for G channel\n",
    "    score = {}\n",
    "    for d in range(-window, window):\n",
    "        g = sub_image(img, dis_est.g + d, ch_size, offset)\n",
    "        score[d] = ssd(b, g)\n",
    "\n",
    "    # displacement that gives best result is the 'key' in dictionary that gives best score\n",
    "    if use_min:\n",
    "        G_start = min(score)\n",
    "    else:\n",
    "        G_start = max(score)\n",
    "\n",
    "    # find displacement for R channel\n",
    "    score.clear()\n",
    "    for d in range(-window, window):\n",
    "        r = sub_image(img, dis_est.r + d, ch_size, offset)\n",
    "        score[d] = metric(b, r)\n",
    "\n",
    "    # displacement that gives best result is the 'key' in dictionary that gives best score\n",
    "    if use_min:\n",
    "        R_start = min(score)\n",
    "    else:\n",
    "        R_start = max(score)\n",
    "\n",
    "    return Displacement(g=G_start, r=R_start)"
   ]
  },
  {
   "cell_type": "markdown",
   "metadata": {
    "ExecuteTime": {
     "end_time": "2020-09-08T10:21:31.578275Z",
     "start_time": "2020-09-08T10:21:31.575976Z"
    }
   },
   "source": [
    "### Image Pyramid"
   ]
  },
  {
   "cell_type": "code",
   "execution_count": null,
   "metadata": {
    "ExecuteTime": {
     "end_time": "2020-09-08T10:55:25.438928Z",
     "start_time": "2020-09-08T10:55:25.433588Z"
    }
   },
   "outputs": [],
   "source": [
    "def pyramid(\n",
    "    img: ndarray, *args\n",
    ") -> Displacement:\n",
    "    if img.size < 1500 * 500:\n",
    "        return align(img, *args)\n",
    "    im_resize = cv2.resize(img, (img.shape[0] // 2, img.shape[1] // 2))\n",
    "    new_pyr = pyramid(im_resize, align_metric, *args)\n",
    "    g_est, r_est = new_pyr.g, new_pyr.r\n",
    "    G_start = int(np.round(g_est / im_resize.shape[0] * img.shape[0]))\n",
    "    R_start = int(np.round(r_est / im_resize.shape[0] * img.shape[0]))\n",
    "    return Displacement(g=G_start, r=R_start)"
   ]
  },
  {
   "cell_type": "markdown",
   "metadata": {},
   "source": [
    "# Test and Display Results"
   ]
  },
  {
   "cell_type": "code",
   "execution_count": 29,
   "metadata": {
    "ExecuteTime": {
     "end_time": "2020-09-08T22:12:11.323612Z",
     "start_time": "2020-09-08T22:12:11.317727Z"
    },
    "code_folding": []
   },
   "outputs": [],
   "source": [
    "def compute(img, out_dir:Path, algorithm, *args, show=False, adjust=False):\n",
    "    # read input file\n",
    "    print(img.name)\n",
    "    im = cv2.imread(str(img), cv2.IMREAD_GRAYSCALE)\n",
    "    if show:\n",
    "        plt.figure()\n",
    "        plt.imshow(im, cmap=plt.get_cmap(\"gray\"))\n",
    "\n",
    "    # initiialize variables\n",
    "    dis_est = \n",
    "    result = Pic(im)\n",
    "        dis_est = Displacement()\n",
    "        dis_est.g.row = ch_size.h\n",
    "        dis_est.r.row = ch_size.h * 2\n",
    "    # do adjustments\n",
    "    if adjust:\n",
    "        # awb_grey(im, show=True)\n",
    "        # awb_white(im, show=True)\n",
    "        # fix_exposure(im, show=True)\n",
    "        # crop_borders(im, show=True)\n",
    "        \n",
    "    # compute displacements\n",
    "    #d = pyramid(im, algorithm)\n",
    "    d = align(im, ssd, )\n",
    "    print(f'\"({d.b}, 0), ({d.g}, 0), ({d.r}, 0)\"')\n",
    "    \n",
    "    # combine channels and display result\n",
    "    R_mat, G_mat, B_mat = channels(im, d, h, w)\n",
    "    result = np.dstack([R_mat, G_mat, B_mat])\n",
    "    if show:\n",
    "        plt.figure()\n",
    "        plt.title(f'\"{R_mat.shape}, {G_mat.shape}, {B_mat.shape}\"')\n",
    "        plt.imshow(result)\n",
    "\n",
    "    # save the images\n",
    "    fname = out_dir / img.stem\n",
    "    Image.fromarray(result).save(fname, \"PNG\")\n",
    "    return result"
   ]
  },
  {
   "cell_type": "markdown",
   "metadata": {},
   "source": [
    "## Testing low resolution images"
   ]
  },
  {
   "cell_type": "code",
   "execution_count": null,
   "metadata": {
    "ExecuteTime": {
     "end_time": "2020-09-08T20:54:09.439962Z",
     "start_time": "2020-09-08T20:54:09.370012Z"
    }
   },
   "outputs": [],
   "source": [
    "if __name__ == \"__main__\":\n",
    "    for im in low_res_imgs:\n",
    "        save_n_display(im, out_dir, align_basic)\n",
    "        save_n_display(im, out_dir, align_ssd)"
   ]
  },
  {
   "cell_type": "markdown",
   "metadata": {
    "ExecuteTime": {
     "end_time": "2020-09-08T10:25:11.986803Z",
     "start_time": "2020-09-08T10:25:11.984394Z"
    },
    "heading_collapsed": true
   },
   "source": [
    "## Testing high resolution images"
   ]
  },
  {
   "cell_type": "code",
   "execution_count": null,
   "metadata": {
    "ExecuteTime": {
     "end_time": "2020-09-08T19:47:39.489704Z",
     "start_time": "2020-09-08T19:45:18.661463Z"
    },
    "hidden": true
   },
   "outputs": [],
   "source": [
    "if __name__ == \"__main__\":\n",
    "    for im in high_res_imgs:\n",
    "        save_n_display(im, out_dir, align_ssd)"
   ]
  },
  {
   "cell_type": "code",
   "execution_count": null,
   "metadata": {
    "ExecuteTime": {
     "end_time": "2020-09-08T19:41:54.943409Z",
     "start_time": "2020-09-08T19:40:41.740421Z"
    },
    "hidden": true
   },
   "outputs": [],
   "source": [
    "if __name__ == \"__main__\":\n",
    "    for im in high_res_imgs:\n",
    "        save_n_display(im, out_dir, align_ssd)"
   ]
  },
  {
   "cell_type": "markdown",
   "metadata": {},
   "source": [
    "## Testing extra images"
   ]
  },
  {
   "cell_type": "code",
   "execution_count": null,
   "metadata": {
    "ExecuteTime": {
     "end_time": "2020-09-08T13:32:36.062136Z",
     "start_time": "2020-09-08T13:32:18.979927Z"
    }
   },
   "outputs": [],
   "source": [
    "if __name__ == \"__main__\":\n",
    "    for im in extra_imgs:\n",
    "        save_n_display(im, out_dir, align_ssd)"
   ]
  },
  {
   "cell_type": "markdown",
   "metadata": {},
   "source": [
    "# Adjustments"
   ]
  },
  {
   "cell_type": "markdown",
   "metadata": {
    "heading_collapsed": true
   },
   "source": [
    "## Normalize Exposures"
   ]
  },
  {
   "cell_type": "code",
   "execution_count": null,
   "metadata": {
    "ExecuteTime": {
     "end_time": "2020-09-08T11:45:45.318663Z",
     "start_time": "2020-09-08T11:45:45.315127Z"
    },
    "hidden": true
   },
   "outputs": [],
   "source": [
    "# takes in a matrix with values within [1,0],\n",
    "# and transforms it so that the minimum value becomes 0, maximum value becomes 1\n",
    "def fix_exposure(mat: ndarray, show=False) -> None:\n",
    "    unit_len = np.max(mat) - np.min(mat)\n",
    "    mat = (mat - np.amin(mat)) / unit_len\n",
    "    if show:\n",
    "        plt.imshow(mat)"
   ]
  },
  {
   "cell_type": "markdown",
   "metadata": {},
   "source": [
    "## Crop Borders"
   ]
  },
  {
   "cell_type": "code",
   "execution_count": null,
   "metadata": {
    "ExecuteTime": {
     "end_time": "2020-09-08T11:45:47.373644Z",
     "start_time": "2020-09-08T11:45:47.368126Z"
    }
   },
   "outputs": [],
   "source": [
    "def find_border(mat, axis):\n",
    "    # zero pad mat at rightmost and bottom\n",
    "    mat_padded = np.pad(mat, ((0, 1), (0, 1), \"constant\", 0))\n",
    "    \n",
    "    val_r, val_c = [], []\n",
    "    # find row border\n",
    "    for i in range[mat.shape[0]]:\n",
    "        val_r[i, i + 1] = mat_padded[i] @ mat_padded[i + 1]\n",
    "    r_cutoff = np.unravel_index(np.argmin(val))[1]\n",
    "    # find col border\n",
    "    for i in range[mat.shape[1]]:\n",
    "        val_c[i, i + 1] = mat_padded[:, [i]] @ mat_padded[:, [i + 1]]\n",
    "    c_cutoff = np.unravel_index(np.argmin(val))[1]\n",
    "    return [r_cutoff, c_cutoff]\n",
    "\n",
    "def crop_borders(mat, show=False):\n",
    "    find_border(mat)\n",
    "    if show:\n",
    "        plt.imshow(balanced_im)"
   ]
  },
  {
   "cell_type": "markdown",
   "metadata": {
    "heading_collapsed": true
   },
   "source": [
    "## Auto White Balance (AWB)"
   ]
  },
  {
   "cell_type": "code",
   "execution_count": null,
   "metadata": {
    "ExecuteTime": {
     "end_time": "2020-09-08T11:48:02.033728Z",
     "start_time": "2020-09-08T11:48:02.029356Z"
    },
    "hidden": true
   },
   "outputs": [],
   "source": [
    "# Automatic (AWB)\n",
    "# • Grey World: force average color of scene to grey\n",
    "# • White World: force brightest object to white\n",
    "\n",
    "def awb_grey(im, show=False):\n",
    "    # Compute the mean color over the entire image\n",
    "    avg_color = np.mean(im)\n",
    "\n",
    "    # Scale the averge color to be grey (0.5)\n",
    "    scaling = 0.5 / avg_color\n",
    "\n",
    "    # Apply the scaling to the entire image\n",
    "    balanced_im = im * scaling\n",
    "    if show:\n",
    "        plt.imshow(balanced_im)\n",
    "    im = balanced_im\n",
    "\n",
    "def awb_white(im, show=False):\n",
    "    # Compute the brightest color over the entire image\n",
    "    brightest_color = np.amax(im)\n",
    "\n",
    "    # Scale the brightest color to be white (1.0)\n",
    "    scaling = 1.0 / brightest_color\n",
    "\n",
    "    # Apply the scaling to the entire image\n",
    "    balanced_im = im * scaling\n",
    "    if show:\n",
    "        plt.imshow(balanced_im)\n",
    "    im = balanced_im"
   ]
  },
  {
   "cell_type": "markdown",
   "metadata": {},
   "source": [
    "## Apply Adjustments"
   ]
  },
  {
   "cell_type": "code",
   "execution_count": null,
   "metadata": {
    "ExecuteTime": {
     "end_time": "2020-09-08T12:35:14.954106Z",
     "start_time": "2020-09-08T12:35:14.941894Z"
    }
   },
   "outputs": [],
   "source": [
    "# im = low_res_imgs[:1]\n",
    "# plt.show(im)\n",
    "\n",
    "# awb_grey(im, show=True)\n",
    "# #awb_white(im, show=True)\n",
    "# fix_exposure(im, show=True)\n",
    "# #crop_borders(im, show=True)\n",
    "\n",
    "# im_aligned = save_n_display(input, out_dir, align_ssd)"
   ]
  },
  {
   "cell_type": "code",
   "execution_count": null,
   "metadata": {
    "ExecuteTime": {
     "end_time": "2020-09-08T11:48:42.604774Z",
     "start_time": "2020-09-08T11:48:42.348945Z"
    }
   },
   "outputs": [],
   "source": [
    "im_aligned = save_n_display(low_res_imgs[:1], out_dir, align_basic)\n",
    "#awb_grey(im_aligned, show=True)\n",
    "awb_white(im_aligned, show=True)\n",
    "fix_exposure(im_aligned, show=True)\n",
    "#crop_borders(im_aligned, show=True)"
   ]
  },
  {
   "cell_type": "code",
   "execution_count": null,
   "metadata": {},
   "outputs": [],
   "source": []
  }
 ],
 "metadata": {
  "kernelspec": {
   "display_name": "Python 3",
   "language": "python",
   "name": "python3"
  },
  "language_info": {
   "codemirror_mode": {
    "name": "ipython",
    "version": 3
   },
   "file_extension": ".py",
   "mimetype": "text/x-python",
   "name": "python",
   "nbconvert_exporter": "python",
   "pygments_lexer": "ipython3",
   "version": "3.8.3"
  },
  "toc": {
   "base_numbering": 1,
   "nav_menu": {},
   "number_sections": true,
   "sideBar": true,
   "skip_h1_title": false,
   "title_cell": "Table of Contents",
   "title_sidebar": "Contents",
   "toc_cell": false,
   "toc_position": {},
   "toc_section_display": true,
   "toc_window_display": false
  }
 },
 "nbformat": 4,
 "nbformat_minor": 4
}
