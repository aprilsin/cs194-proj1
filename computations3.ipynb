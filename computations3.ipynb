{
 "cells": [
  {
   "cell_type": "code",
   "execution_count": 1,
   "metadata": {
    "ExecuteTime": {
     "end_time": "2020-09-09T04:06:59.312689Z",
     "start_time": "2020-09-09T04:06:59.286022Z"
    }
   },
   "outputs": [
    {
     "ename": "ModuleNotFoundError",
     "evalue": "No module named 'cv2'",
     "output_type": "error",
     "traceback": [
      "\u001b[0;31m---------------------------------------------\u001b[0m",
      "\u001b[0;31mModuleNotFoundError\u001b[0mTraceback (most recent call last)",
      "\u001b[0;32m<ipython-input-1-d23c6c6bd2ea>\u001b[0m in \u001b[0;36m<module>\u001b[0;34m\u001b[0m\n\u001b[1;32m      4\u001b[0m \u001b[0;32mfrom\u001b[0m \u001b[0mtyping\u001b[0m \u001b[0;32mimport\u001b[0m \u001b[0mCallable\u001b[0m\u001b[0;34m,\u001b[0m \u001b[0mNamedTuple\u001b[0m\u001b[0;34m,\u001b[0m \u001b[0mTuple\u001b[0m\u001b[0;34m\u001b[0m\u001b[0;34m\u001b[0m\u001b[0m\n\u001b[1;32m      5\u001b[0m \u001b[0;34m\u001b[0m\u001b[0m\n\u001b[0;32m----> 6\u001b[0;31m \u001b[0;32mimport\u001b[0m \u001b[0mcv2\u001b[0m\u001b[0;34m\u001b[0m\u001b[0;34m\u001b[0m\u001b[0m\n\u001b[0m\u001b[1;32m      7\u001b[0m \u001b[0;32mimport\u001b[0m \u001b[0mmatplotlib\u001b[0m\u001b[0;34m.\u001b[0m\u001b[0mpyplot\u001b[0m \u001b[0;32mas\u001b[0m \u001b[0mplt\u001b[0m\u001b[0;34m\u001b[0m\u001b[0;34m\u001b[0m\u001b[0m\n\u001b[1;32m      8\u001b[0m \u001b[0;32mimport\u001b[0m \u001b[0mnumpy\u001b[0m \u001b[0;32mas\u001b[0m \u001b[0mnp\u001b[0m\u001b[0;34m\u001b[0m\u001b[0;34m\u001b[0m\u001b[0m\n",
      "\u001b[0;31mModuleNotFoundError\u001b[0m: No module named 'cv2'"
     ]
    }
   ],
   "source": [
    "from dataclasses import dataclass\n",
    "from itertools import product\n",
    "from pathlib import Path\n",
    "from typing import Callable, NamedTuple, Tuple\n",
    "\n",
    "import cv2\n",
    "import matplotlib.pyplot as plt\n",
    "import numpy as np\n",
    "import skimage as sk\n",
    "import skimage.io as skio\n",
    "from numpy import ndarray\n",
    "from PIL import Image"
   ]
  },
  {
   "cell_type": "markdown",
   "metadata": {},
   "source": [
    "# Input images"
   ]
  },
  {
   "cell_type": "code",
   "execution_count": 10,
   "metadata": {
    "ExecuteTime": {
     "end_time": "2020-09-08T21:46:56.773441Z",
     "start_time": "2020-09-08T21:46:56.756199Z"
    }
   },
   "outputs": [
    {
     "name": "stdout",
     "output_type": "stream",
     "text": [
      "number of images = 3\n",
      "number of images = 11\n",
      "number of images = 4\n"
     ]
    }
   ],
   "source": [
    "data_dir, extra_dir, out_dir = Path(\"data\"), Path(\"extra\"), Path(\"output\")\n",
    "adjust_dir = Path(\"output/adjust\")\n",
    "out_dir.mkdir(parents=True, exist_ok=True)\n",
    "\n",
    "low_res_imgs = list(data_dir.glob(\"*.jpg\"))\n",
    "high_res_imgs = list(data_dir.glob(\"*.tif\"))\n",
    "extra_imgs = list(extra_dir.glob(\"*\"))\n",
    "\n",
    "print(f\"number of images = {len(low_res_imgs)}\")\n",
    "print(f\"number of images = {len(high_res_imgs)}\")\n",
    "print(f\"number of images = {len(extra_imgs)}\")"
   ]
  },
  {
   "cell_type": "markdown",
   "metadata": {
    "ExecuteTime": {
     "end_time": "2020-09-08T10:20:16.980871Z",
     "start_time": "2020-09-08T10:20:16.978068Z"
    }
   },
   "source": [
    "# Aligning Channels"
   ]
  },
  {
   "cell_type": "markdown",
   "metadata": {},
   "source": [
    "## Helper Functions"
   ]
  },
  {
   "cell_type": "code",
   "execution_count": 42,
   "metadata": {
    "ExecuteTime": {
     "end_time": "2020-09-08T22:30:46.986594Z",
     "start_time": "2020-09-08T22:30:46.980136Z"
    },
    "code_folding": []
   },
   "outputs": [],
   "source": [
    "def est_channel_height(img: ndarray):\n",
    "    return img.shape[0] // 3\n",
    "\n",
    "def est_channel_width(img: ndarray):\n",
    "    return img.shape[1]\n",
    "\n",
    "def max_channel_height(img: Pic):\n",
    "    return min(img.r.shape[0], img.b.shape[0], img.g.shape[0])\n",
    "\n",
    "def max_channel_width(img: Pic):\n",
    "    return min(img.r.shape[1], img.b.shape[1], img.g.shape[1])"
   ]
  },
  {
   "cell_type": "code",
   "execution_count": 153,
   "metadata": {
    "ExecuteTime": {
     "end_time": "2020-09-08T22:54:52.643310Z",
     "start_time": "2020-09-08T22:54:52.634458Z"
    },
    "code_folding": []
   },
   "outputs": [],
   "source": [
    "class Displacement:\n",
    "    \"\"\"Start of each color as a row.\"\"\"\n",
    "\n",
    "    def __init__(self, r: Pixel = Pixel(), g: Pixel = Pixel(), b: Pixel = Pixel()):\n",
    "        self.r = r\n",
    "        self.g = g\n",
    "        self.b = b\n",
    "\n",
    "@dataclass\n",
    "class Pixel:\n",
    "    row: int = 0\n",
    "    col: int = 0\n",
    "\n",
    "@dataclass\n",
    "class Offset:\n",
    "    row: int = 0\n",
    "    col: int = 0\n",
    "\n",
    "@dataclass\n",
    "class ChannelSize:\n",
    "    h: int = 0\n",
    "    w: int = 0\n",
    "\n",
    "\n",
    "class Pic:\n",
    "    def __init__(\n",
    "        self,\n",
    "        img: ndarray,\n",
    "        dis: Displacement = None,\n",
    "        ch_size: ChannelSize = None,\n",
    "    ) -> None:\n",
    "        self.img = img\n",
    "        if dis is None:\n",
    "            dis = Displacement()\n",
    "            dis.g.row = est_channel_height(img)\n",
    "            dis.r.row = est_channel_height(img) * 2\n",
    "        self.dis = dis\n",
    "        if ch_size is None:\n",
    "            ch_size = ChannelSize()\n",
    "            ch_size.h = est_channel_height(img)\n",
    "            ch_size.w = est_channel_width(img)\n",
    "        self.ch_size = ch_size"
   ]
  },
  {
   "cell_type": "markdown",
   "metadata": {
    "ExecuteTime": {
     "end_time": "2020-09-08T10:20:55.098250Z",
     "start_time": "2020-09-08T10:20:55.096200Z"
    }
   },
   "source": [
    "## Alignment Algorithms"
   ]
  },
  {
   "cell_type": "markdown",
   "metadata": {
    "ExecuteTime": {
     "end_time": "2020-09-08T10:21:02.418880Z",
     "start_time": "2020-09-08T10:21:02.416860Z"
    }
   },
   "source": [
    "### Basic"
   ]
  },
  {
   "cell_type": "code",
   "execution_count": 143,
   "metadata": {
    "ExecuteTime": {
     "end_time": "2020-09-08T22:52:48.156454Z",
     "start_time": "2020-09-08T22:52:48.153118Z"
    }
   },
   "outputs": [],
   "source": [
    "# Returns alignment index by simply dividing the image in 3\n",
    "def align_basic(img: ndarray) -> Displacement:\n",
    "    G_start = channel_height(img)  # floor division to get integer indices\n",
    "    R_start = channel_height(img) * 2\n",
    "    return Displacement(g=G_start, r=R_start)"
   ]
  },
  {
   "cell_type": "markdown",
   "metadata": {
    "ExecuteTime": {
     "end_time": "2020-09-08T10:21:14.297957Z",
     "start_time": "2020-09-08T10:21:14.295781Z"
    }
   },
   "source": [
    "### SSD"
   ]
  },
  {
   "cell_type": "code",
   "execution_count": 144,
   "metadata": {
    "ExecuteTime": {
     "end_time": "2020-09-08T22:52:48.427036Z",
     "start_time": "2020-09-08T22:52:48.424433Z"
    }
   },
   "outputs": [],
   "source": [
    "# Returns the ssd between matrix a and matrix b\n",
    "def ssd(a: ndarray, b: ndarray) -> float:\n",
    "    return np.sum((a - b) ** 2)"
   ]
  },
  {
   "cell_type": "markdown",
   "metadata": {},
   "source": [
    "### NCC"
   ]
  },
  {
   "cell_type": "code",
   "execution_count": 134,
   "metadata": {
    "ExecuteTime": {
     "end_time": "2020-09-08T22:52:03.318209Z",
     "start_time": "2020-09-08T22:52:03.314440Z"
    }
   },
   "outputs": [],
   "source": [
    "# Returns the ncc between matrix a and matrix b\n",
    "def ncc(a: ndarray, b: ndarray) -> float:\n",
    "    assert(a.shape == b.shape)\n",
    "    s = np.array([a[r] @ b[r] for r in range(a.shape[0])])\n",
    "    return np.sum(s)"
   ]
  },
  {
   "cell_type": "markdown",
   "metadata": {},
   "source": [
    "## Alignment Computations"
   ]
  },
  {
   "cell_type": "code",
   "execution_count": 168,
   "metadata": {
    "ExecuteTime": {
     "end_time": "2020-09-08T23:00:34.557595Z",
     "start_time": "2020-09-08T23:00:34.551774Z"
    }
   },
   "outputs": [],
   "source": [
    "# Returns a sub_matrix extracted from img, returns None if out of bounds\n",
    "def sub_image(\n",
    "    img: ndarray,\n",
    "    start: Pixel = Pixel(),\n",
    "    ch_size: ChannelSize = None,\n",
    "    offset: Offset = Offset(),\n",
    "    pad_val: float = 0,\n",
    ") -> ndarray:\n",
    "\n",
    "    # if ch_size is not specified, initialize it\n",
    "    if ch_size is None:\n",
    "        ch_size = ChannelSize(h=est_channel_height(img), w=est_channel_width(img))\n",
    "        \n",
    "    res_h = ch_size.h - 2 * offset.row\n",
    "    res_w = ch_size.w - 2 * offset.col\n",
    "    R, C = img.shape\n",
    "    \n",
    "    # if out of bounds, return None\n",
    "    if (\n",
    "        start.row not in range(R)\n",
    "        or start.col not in range(C)\n",
    "        or start.row + res_h not in range(R)\n",
    "        or start.col + res_w not in range(C)\n",
    "    ):\n",
    "        return None\n",
    "\n",
    "    # copy wanted entries of img to result\n",
    "    result = img[start.row : start.row + res_h, start.col : start.col + res_w]\n",
    "    return result"
   ]
  },
  {
   "cell_type": "code",
   "execution_count": 169,
   "metadata": {
    "ExecuteTime": {
     "end_time": "2020-09-08T23:04:17.120719Z",
     "start_time": "2020-09-08T23:04:17.113044Z"
    }
   },
   "outputs": [],
   "source": [
    "def align(\n",
    "    pic: Pic,\n",
    "    window: int = 20,\n",
    "    offset=Offset(row=20, col=20),\n",
    "    metric: Callable = ssd,\n",
    "    use_min=True,\n",
    ") -> Displacement:\n",
    "\n",
    "    img = pic.img\n",
    "    dis_est = pic.dis\n",
    "    ch_size = pic.ch_size\n",
    "    \n",
    "    pad_val = 0 if use_min else np.inf\n",
    "    best = min if use_min else max\n",
    "    \n",
    "    b = sub_image(img, dis_est.b, ch_size, offset)\n",
    "\n",
    "    # find displacement for G channel\n",
    "    score = {}\n",
    "    for d in range(-window, window):\n",
    "        g_est = Pixel(dis_est.g.row + d, 0)\n",
    "        g = sub_image(img, g_est, ch_size, offset)\n",
    "        if g is None:\n",
    "            score[d] = pad_val\n",
    "        else:\n",
    "            score[d] = metric(b, g)\n",
    "\n",
    "    # displacement that gives best result is the 'key' in dictionary that gives best score\n",
    "    G_start = best(score)\n",
    "\n",
    "    # find displacement for R channel\n",
    "    score.clear()\n",
    "    for d in range(-window, window):\n",
    "        r_est = Pixel(dis_est.r.row + d, 0)\n",
    "        r = sub_image(img, r_est, ch_size, offset)\n",
    "        if r is None:\n",
    "            score[d] = pad_val\n",
    "        else:\n",
    "            score[d] = metric(b, r)\n",
    "\n",
    "    # displacement that gives best result is the 'key' in dictionary that gives best score\n",
    "    R_start = best(score)\n",
    "\n",
    "    return Displacement(g=Pixel(G_start, 0), r=Pixel(R_start, 0))"
   ]
  },
  {
   "cell_type": "markdown",
   "metadata": {
    "ExecuteTime": {
     "end_time": "2020-09-08T10:21:31.578275Z",
     "start_time": "2020-09-08T10:21:31.575976Z"
    }
   },
   "source": [
    "### Image Pyramid"
   ]
  },
  {
   "cell_type": "code",
   "execution_count": 170,
   "metadata": {
    "ExecuteTime": {
     "end_time": "2020-09-08T23:04:17.826268Z",
     "start_time": "2020-09-08T23:04:17.818127Z"
    }
   },
   "outputs": [],
   "source": [
    "def pyramid(\n",
    "    img: ndarray, *args\n",
    ") -> Displacement:\n",
    "    if img.size < 1500 * 500:\n",
    "        return align(img, *args)\n",
    "    im_resize = cv2.resize(img, (img.shape[0] // 2, img.shape[1] // 2))\n",
    "    new_pyr = pyramid(im_resize, align_metric, *args)\n",
    "    g_est, r_est = new_pyr.g, new_pyr.r\n",
    "    G_start = int(np.round(g_est / im_resize.shape[0] * img.shape[0]))\n",
    "    R_start = int(np.round(r_est / im_resize.shape[0] * img.shape[0]))\n",
    "    return Displacement(g=G_start, r=R_start)"
   ]
  },
  {
   "cell_type": "markdown",
   "metadata": {},
   "source": [
    "# Test and Display Results"
   ]
  },
  {
   "cell_type": "code",
   "execution_count": 171,
   "metadata": {
    "ExecuteTime": {
     "end_time": "2020-09-08T23:04:18.341775Z",
     "start_time": "2020-09-08T23:04:18.333469Z"
    },
    "code_folding": []
   },
   "outputs": [],
   "source": [
    "# create and return channel matrices\n",
    "def channels(pic: Pic) -> Tuple[ndarray, ndarray, ndarray]:\n",
    "    r, g, b = pic.dis.r, pic.dis.g, pic.dis.b\n",
    "    h, w = pic.ch_size.h, pic.ch_size.w\n",
    "    img = pic.img\n",
    "    print(r, g, b)\n",
    "    B_mat = img[b.row : b.row + h, b.col: b.col + w]\n",
    "    G_mat = img[g.row : g.row + h, g.col: g.col + w]\n",
    "    R_mat = img[r.row : r.row + h, r.col: r.col + w]\n",
    "    \n",
    "    return R_mat, G_mat, B_mat"
   ]
  },
  {
   "cell_type": "code",
   "execution_count": 172,
   "metadata": {
    "ExecuteTime": {
     "end_time": "2020-09-08T23:04:18.686445Z",
     "start_time": "2020-09-08T23:04:18.671538Z"
    },
    "code_folding": []
   },
   "outputs": [],
   "source": [
    "def compute(input_img, out_dir:Path, algorithm, *args, show=False, adjust=False):\n",
    "    # read input file\n",
    "    print(input_img.name)\n",
    "    img_mat = cv2.imread(str(input_img), cv2.IMREAD_GRAYSCALE)\n",
    "    if show:\n",
    "        plt.figure()\n",
    "        plt.imshow(im, cmap=plt.get_cmap(\"gray\"))\n",
    "\n",
    "    # initiialize variables\n",
    "    pic = Pic(img_mat)\n",
    "        \n",
    "    # do adjustments\n",
    "    if adjust:\n",
    "        # awb_grey(im, show=True)\n",
    "        # awb_white(im, show=True)\n",
    "        # fix_exposure(im, show=True)\n",
    "        # crop_borders(im, show=True)\n",
    "        pass\n",
    "        \n",
    "    # compute displacements\n",
    "    d = align(pic, window = 20, offset=Offset(row=20, col=20), metric=ssd, use_min=True)\n",
    "    #d = pyramid(im, algorithm)\n",
    "    print(f'\"{d.b}, {d.g}, {d.r}\"')\n",
    "    pic.dis = d\n",
    "    \n",
    "    # combine channels and display result\n",
    "    R_mat, G_mat, B_mat = channels(pic)\n",
    "    result = np.dstack([R_mat, G_mat, B_mat])\n",
    "    if show:\n",
    "        plt.figure()\n",
    "        plt.title(f'\"{R_mat.shape}, {G_mat.shape}, {B_mat.shape}\"')\n",
    "        plt.imshow(result)\n",
    "\n",
    "    # save the images\n",
    "    fname = out_dir / img.stem\n",
    "    Image.fromarray(result).save(fname, \"PNG\")\n",
    "    return result"
   ]
  },
  {
   "cell_type": "markdown",
   "metadata": {},
   "source": [
    "## Testing low resolution images"
   ]
  },
  {
   "cell_type": "code",
   "execution_count": 175,
   "metadata": {
    "ExecuteTime": {
     "end_time": "2020-09-08T23:05:09.802658Z",
     "start_time": "2020-09-08T23:05:09.776345Z"
    }
   },
   "outputs": [
    {
     "name": "stdout",
     "output_type": "stream",
     "text": [
      "monastery.jpg\n",
      "\"Pixel(row=0, col=0), Pixel(row=-20, col=0), Pixel(row=-20, col=0)\"\n",
      "Pixel(row=-20, col=0) Pixel(row=-20, col=0) Pixel(row=0, col=0)\n"
     ]
    },
    {
     "ename": "ValueError",
     "evalue": "all the input array dimensions for the concatenation axis must match exactly, but along dimension 0, the array at index 0 has size 0 and the array at index 2 has size 341",
     "output_type": "error",
     "traceback": [
      "\u001b[0;31m---------------------------------------------------------------------------\u001b[0m",
      "\u001b[0;31mValueError\u001b[0m                                Traceback (most recent call last)",
      "\u001b[0;32m<ipython-input-175-c3161b3bfddb>\u001b[0m in \u001b[0;36m<module>\u001b[0;34m\u001b[0m\n\u001b[1;32m      2\u001b[0m     \u001b[0;32mfor\u001b[0m \u001b[0mim\u001b[0m \u001b[0;32min\u001b[0m \u001b[0mlow_res_imgs\u001b[0m\u001b[0;34m:\u001b[0m\u001b[0;34m\u001b[0m\u001b[0;34m\u001b[0m\u001b[0m\n\u001b[1;32m      3\u001b[0m         \u001b[0;31m#compute(im, out_dir, align_basic)\u001b[0m\u001b[0;34m\u001b[0m\u001b[0;34m\u001b[0m\u001b[0;34m\u001b[0m\u001b[0m\n\u001b[0;32m----> 4\u001b[0;31m         \u001b[0mcompute\u001b[0m\u001b[0;34m(\u001b[0m\u001b[0mim\u001b[0m\u001b[0;34m,\u001b[0m \u001b[0mout_dir\u001b[0m\u001b[0;34m,\u001b[0m \u001b[0mssd\u001b[0m\u001b[0;34m)\u001b[0m\u001b[0;34m\u001b[0m\u001b[0;34m\u001b[0m\u001b[0m\n\u001b[0m",
      "\u001b[0;32m<ipython-input-172-e035222fed7f>\u001b[0m in \u001b[0;36mcompute\u001b[0;34m(input_img, out_dir, algorithm, show, adjust, *args)\u001b[0m\n\u001b[1;32m     26\u001b[0m     \u001b[0;31m# combine channels and display result\u001b[0m\u001b[0;34m\u001b[0m\u001b[0;34m\u001b[0m\u001b[0;34m\u001b[0m\u001b[0m\n\u001b[1;32m     27\u001b[0m     \u001b[0mR_mat\u001b[0m\u001b[0;34m,\u001b[0m \u001b[0mG_mat\u001b[0m\u001b[0;34m,\u001b[0m \u001b[0mB_mat\u001b[0m \u001b[0;34m=\u001b[0m \u001b[0mchannels\u001b[0m\u001b[0;34m(\u001b[0m\u001b[0mpic\u001b[0m\u001b[0;34m)\u001b[0m\u001b[0;34m\u001b[0m\u001b[0;34m\u001b[0m\u001b[0m\n\u001b[0;32m---> 28\u001b[0;31m     \u001b[0mresult\u001b[0m \u001b[0;34m=\u001b[0m \u001b[0mnp\u001b[0m\u001b[0;34m.\u001b[0m\u001b[0mdstack\u001b[0m\u001b[0;34m(\u001b[0m\u001b[0;34m[\u001b[0m\u001b[0mR_mat\u001b[0m\u001b[0;34m,\u001b[0m \u001b[0mG_mat\u001b[0m\u001b[0;34m,\u001b[0m \u001b[0mB_mat\u001b[0m\u001b[0;34m]\u001b[0m\u001b[0;34m)\u001b[0m\u001b[0;34m\u001b[0m\u001b[0;34m\u001b[0m\u001b[0m\n\u001b[0m\u001b[1;32m     29\u001b[0m     \u001b[0;32mif\u001b[0m \u001b[0mshow\u001b[0m\u001b[0;34m:\u001b[0m\u001b[0;34m\u001b[0m\u001b[0;34m\u001b[0m\u001b[0m\n\u001b[1;32m     30\u001b[0m         \u001b[0mplt\u001b[0m\u001b[0;34m.\u001b[0m\u001b[0mfigure\u001b[0m\u001b[0;34m(\u001b[0m\u001b[0;34m)\u001b[0m\u001b[0;34m\u001b[0m\u001b[0;34m\u001b[0m\u001b[0m\n",
      "\u001b[0;32m<__array_function__ internals>\u001b[0m in \u001b[0;36mdstack\u001b[0;34m(*args, **kwargs)\u001b[0m\n",
      "\u001b[0;32m~/anaconda3/lib/python3.8/site-packages/numpy/lib/shape_base.py\u001b[0m in \u001b[0;36mdstack\u001b[0;34m(tup)\u001b[0m\n\u001b[1;32m    719\u001b[0m     \u001b[0;32mif\u001b[0m \u001b[0;32mnot\u001b[0m \u001b[0misinstance\u001b[0m\u001b[0;34m(\u001b[0m\u001b[0marrs\u001b[0m\u001b[0;34m,\u001b[0m \u001b[0mlist\u001b[0m\u001b[0;34m)\u001b[0m\u001b[0;34m:\u001b[0m\u001b[0;34m\u001b[0m\u001b[0;34m\u001b[0m\u001b[0m\n\u001b[1;32m    720\u001b[0m         \u001b[0marrs\u001b[0m \u001b[0;34m=\u001b[0m \u001b[0;34m[\u001b[0m\u001b[0marrs\u001b[0m\u001b[0;34m]\u001b[0m\u001b[0;34m\u001b[0m\u001b[0;34m\u001b[0m\u001b[0m\n\u001b[0;32m--> 721\u001b[0;31m     \u001b[0;32mreturn\u001b[0m \u001b[0m_nx\u001b[0m\u001b[0;34m.\u001b[0m\u001b[0mconcatenate\u001b[0m\u001b[0;34m(\u001b[0m\u001b[0marrs\u001b[0m\u001b[0;34m,\u001b[0m \u001b[0;36m2\u001b[0m\u001b[0;34m)\u001b[0m\u001b[0;34m\u001b[0m\u001b[0;34m\u001b[0m\u001b[0m\n\u001b[0m\u001b[1;32m    722\u001b[0m \u001b[0;34m\u001b[0m\u001b[0m\n\u001b[1;32m    723\u001b[0m \u001b[0;34m\u001b[0m\u001b[0m\n",
      "\u001b[0;32m<__array_function__ internals>\u001b[0m in \u001b[0;36mconcatenate\u001b[0;34m(*args, **kwargs)\u001b[0m\n",
      "\u001b[0;31mValueError\u001b[0m: all the input array dimensions for the concatenation axis must match exactly, but along dimension 0, the array at index 0 has size 0 and the array at index 2 has size 341"
     ]
    }
   ],
   "source": [
    "if __name__ == \"__main__\":\n",
    "    for im in low_res_imgs:\n",
    "        #compute(im, out_dir, align_basic)\n",
    "        compute(im, out_dir, ssd)"
   ]
  },
  {
   "cell_type": "markdown",
   "metadata": {
    "ExecuteTime": {
     "end_time": "2020-09-08T10:25:11.986803Z",
     "start_time": "2020-09-08T10:25:11.984394Z"
    }
   },
   "source": [
    "## Testing high resolution images"
   ]
  },
  {
   "cell_type": "code",
   "execution_count": null,
   "metadata": {
    "ExecuteTime": {
     "end_time": "2020-09-08T19:47:39.489704Z",
     "start_time": "2020-09-08T19:45:18.661463Z"
    }
   },
   "outputs": [],
   "source": [
    "if __name__ == \"__main__\":\n",
    "    for im in high_res_imgs:\n",
    "        save_n_display(im, out_dir, align_ssd)"
   ]
  },
  {
   "cell_type": "code",
   "execution_count": null,
   "metadata": {
    "ExecuteTime": {
     "end_time": "2020-09-08T19:41:54.943409Z",
     "start_time": "2020-09-08T19:40:41.740421Z"
    }
   },
   "outputs": [],
   "source": [
    "if __name__ == \"__main__\":\n",
    "    for im in high_res_imgs:\n",
    "        save_n_display(im, out_dir, align_ssd)"
   ]
  },
  {
   "cell_type": "markdown",
   "metadata": {},
   "source": [
    "## Testing extra images"
   ]
  },
  {
   "cell_type": "code",
   "execution_count": null,
   "metadata": {
    "ExecuteTime": {
     "end_time": "2020-09-08T13:32:36.062136Z",
     "start_time": "2020-09-08T13:32:18.979927Z"
    }
   },
   "outputs": [],
   "source": [
    "if __name__ == \"__main__\":\n",
    "    for im in extra_imgs:\n",
    "        save_n_display(im, out_dir, align_ssd)"
   ]
  },
  {
   "cell_type": "markdown",
   "metadata": {},
   "source": [
    "# Adjustments"
   ]
  },
  {
   "cell_type": "markdown",
   "metadata": {},
   "source": [
    "## Normalize Exposures"
   ]
  },
  {
   "cell_type": "code",
   "execution_count": null,
   "metadata": {
    "ExecuteTime": {
     "end_time": "2020-09-08T11:45:45.318663Z",
     "start_time": "2020-09-08T11:45:45.315127Z"
    }
   },
   "outputs": [],
   "source": [
    "# takes in a matrix with values within [1,0],\n",
    "# and transforms it so that the minimum value becomes 0, maximum value becomes 1\n",
    "def fix_exposure(mat: ndarray, show=False) -> None:\n",
    "    unit_len = np.max(mat) - np.min(mat)\n",
    "    mat = (mat - np.amin(mat)) / unit_len\n",
    "    if show:\n",
    "        plt.imshow(mat)"
   ]
  },
  {
   "cell_type": "markdown",
   "metadata": {},
   "source": [
    "## Crop Borders"
   ]
  },
  {
   "cell_type": "code",
   "execution_count": 3,
   "metadata": {
    "ExecuteTime": {
     "end_time": "2020-09-09T10:58:41.813508Z",
     "start_time": "2020-09-09T10:58:41.806418Z"
    }
   },
   "outputs": [],
   "source": [
    "def find_border(mat, axis) -> (int, int):\n",
    "    val_r, val_c = [], []\n",
    "    \n",
    "    # find row border\n",
    "    for i in range(mat.shape[0] + 1):\n",
    "        val_r[i] = mat[i] @ mat[i - 1]\n",
    "    r_up_cutoff = np.argmin(val_r[mat.shape[0]//20:mat.shape[0]//4])\n",
    "    r_bot_cutoff = np.argmin(val_r[mat.shape[0]//4*3:-mat.shape[0]//20])\n",
    "    # find col border\n",
    "    for i in range(mat.shape[1] + 1):\n",
    "        val_c[i] = mat[:, [i]] @ mat[:, [i - 1]]\n",
    "    c_left_cutoff = np.argmin(val_c[mat.shape[1]//20:mat.shape[1]//4])\n",
    "    c_right_cutoff = np.argmin(val_c[mat.shape[1]//4*3:-mat.shape[1]//20])\n",
    "    return r_up_cutoff, r_bot_cutoff, c_left_cutoff, c_right_cutoff\n",
    "\n",
    "def crop_borders(mat, show=False):\n",
    "    up_cut, bot_cut, left_cut, right_cut = find_border(mat)\n",
    "    mat = mat[up_cut:bot_cut, left_cut:right_cut]\n",
    "    if show:\n",
    "        plt.imshow(balanced_im)"
   ]
  },
  {
   "cell_type": "markdown",
   "metadata": {},
   "source": [
    "## Auto White Balance (AWB)"
   ]
  },
  {
   "cell_type": "code",
   "execution_count": null,
   "metadata": {
    "ExecuteTime": {
     "end_time": "2020-09-08T11:48:02.033728Z",
     "start_time": "2020-09-08T11:48:02.029356Z"
    }
   },
   "outputs": [],
   "source": [
    "# Automatic (AWB)\n",
    "# • Grey World: force average color of scene to grey\n",
    "# • White World: force brightest object to white\n",
    "\n",
    "def awb_grey(im, show=False):\n",
    "    # Compute the mean color over the entire image\n",
    "    avg_color = np.mean(im)\n",
    "\n",
    "    # Scale the averge color to be grey (0.5)\n",
    "    scaling = 0.5 / avg_color\n",
    "\n",
    "    # Apply the scaling to the entire image\n",
    "    balanced_im = im * scaling\n",
    "    if show:\n",
    "        plt.imshow(balanced_im)\n",
    "    im = balanced_im\n",
    "\n",
    "def awb_white(im, show=False):\n",
    "    # Compute the brightest color over the entire image\n",
    "    brightest_color = np.amax(im)\n",
    "\n",
    "    # Scale the brightest color to be white (1.0)\n",
    "    scaling = 1.0 / brightest_color\n",
    "\n",
    "    # Apply the scaling to the entire image\n",
    "    balanced_im = im * scaling\n",
    "    if show:\n",
    "        plt.imshow(balanced_im)\n",
    "    im = balanced_im"
   ]
  },
  {
   "cell_type": "markdown",
   "metadata": {},
   "source": [
    "## Apply Adjustments"
   ]
  },
  {
   "cell_type": "code",
   "execution_count": null,
   "metadata": {
    "ExecuteTime": {
     "end_time": "2020-09-08T12:35:14.954106Z",
     "start_time": "2020-09-08T12:35:14.941894Z"
    }
   },
   "outputs": [],
   "source": [
    "# im = low_res_imgs[:1]\n",
    "# plt.show(im)\n",
    "\n",
    "# awb_grey(im, show=True)\n",
    "# #awb_white(im, show=True)\n",
    "# fix_exposure(im, show=True)\n",
    "# #crop_borders(im, show=True)\n",
    "\n",
    "# im_aligned = save_n_display(input, out_dir, align_ssd)"
   ]
  },
  {
   "cell_type": "code",
   "execution_count": null,
   "metadata": {
    "ExecuteTime": {
     "end_time": "2020-09-08T11:48:42.604774Z",
     "start_time": "2020-09-08T11:48:42.348945Z"
    }
   },
   "outputs": [],
   "source": [
    "im_aligned = save_n_display(low_res_imgs[:1], out_dir, align_basic)\n",
    "#awb_grey(im_aligned, show=True)\n",
    "awb_white(im_aligned, show=True)\n",
    "fix_exposure(im_aligned, show=True)\n",
    "#crop_borders(im_aligned, show=True)"
   ]
  },
  {
   "cell_type": "code",
   "execution_count": null,
   "metadata": {},
   "outputs": [],
   "source": []
  }
 ],
 "metadata": {
  "kernelspec": {
   "display_name": "Python 3",
   "language": "python",
   "name": "python3"
  },
  "language_info": {
   "codemirror_mode": {
    "name": "ipython",
    "version": 3
   },
   "file_extension": ".py",
   "mimetype": "text/x-python",
   "name": "python",
   "nbconvert_exporter": "python",
   "pygments_lexer": "ipython3",
   "version": "3.8.3"
  },
  "toc": {
   "base_numbering": 1,
   "nav_menu": {},
   "number_sections": true,
   "sideBar": true,
   "skip_h1_title": false,
   "title_cell": "Table of Contents",
   "title_sidebar": "Contents",
   "toc_cell": false,
   "toc_position": {},
   "toc_section_display": true,
   "toc_window_display": false
  }
 },
 "nbformat": 4,
 "nbformat_minor": 4
}
